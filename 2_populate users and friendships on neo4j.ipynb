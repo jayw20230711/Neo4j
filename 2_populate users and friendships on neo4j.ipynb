{
 "cells": [
  {
   "cell_type": "code",
   "execution_count": 1,
   "id": "0768edd6-37c1-455f-a490-66397ad7e9fa",
   "metadata": {},
   "outputs": [],
   "source": [
    "from neo4j import GraphDatabase"
   ]
  },
  {
   "cell_type": "code",
   "execution_count": 2,
   "id": "22b31358-2dd7-4224-afa3-c357c9f8f957",
   "metadata": {},
   "outputs": [],
   "source": [
    "# Neo4j connection settings (replace with your credentials)\n",
    "URI = \"bolt://localhost:7687\"\n",
    "USER = \"neo4j\"\n",
    "PASSWORD = \"neo4j\" # Default is \"neo4j\" (change after first login)\n",
    "# Sample data\n",
    "users = [\n",
    "{\"id\": 0, \"name\": \"Hero\"},\n",
    "{\"id\": 1, \"name\": \"Dunn\"},\n",
    "{\"id\": 2, \"name\": \"Sue\"},\n",
    "{\"id\": 3, \"name\": \"Chi\"},\n",
    "{\"id\": 4, \"name\": \"Thor\"},\n",
    "{\"id\": 5, \"name\": \"Clive\"},\n",
    "{\"id\": 6, \"name\": \"Hicks\"},\n",
    "{\"id\": 7, \"name\": \"Devin\"},\n",
    "{\"id\": 8, \"name\": \"Kate\"},\n",
    "{\"id\": 9, \"name\": \"Klein\"}\n",
    "]\n",
    "\n",
    "friendship_pairs = [(0, 1), (0, 2), (1, 2), (1, 3), (2, 3), (3, 4),\n",
    "(4, 5), (5, 6), (5, 7), (6, 8), (7, 8), (8, 9)]"
   ]
  },
  {
   "cell_type": "code",
   "execution_count": 3,
   "id": "00f3e99a-facd-4377-98f9-3eafc7227457",
   "metadata": {},
   "outputs": [],
   "source": [
    "# Connect to Neo4j and populate data\n",
    "def create_graph(tx):\n",
    "    #clear existing data (optional)\n",
    "    tx.run(\"MATCH (n) DETACH DELETE n\")\n",
    "\n",
    "    #create all user nodes\n",
    "    for user in users:\n",
    "        tx.run (\n",
    "            \"CREATE (u:User {id: $id, name: $name})\",  # Single-line query (double quotes)\n",
    "            id=user[\"id\"], name=user[\"name\"]\n",
    "        )\n",
    "\n",
    "    # create FRIENDS_WITH relationships  - u1 -> u2  ONLY -  not bidirectional\n",
    "    for pair in friendship_pairs:\n",
    "        tx.run(\n",
    "            \"\"\"\n",
    "            MATCH (u1:User {id: $id1}), (u2:User {id: $id2})\n",
    "            CREATE (u1)-[:FRIENDS_WITH]->(u2)\n",
    "            \"\"\",             # Multi-line query (triple double quotes)\n",
    "            id1=pair[0], id2=pair[1]\n",
    "        )\n"
   ]
  },
  {
   "cell_type": "code",
   "execution_count": 4,
   "id": "a2113144-e074-4053-ac28-d09046688ae6",
   "metadata": {},
   "outputs": [
    {
     "name": "stdout",
     "output_type": "stream",
     "text": [
      "Graph database populated successfully!\n"
     ]
    }
   ],
   "source": [
    "# Execute the script\n",
    "with GraphDatabase.driver(URI, auth=(USER, PASSWORD)) as driver:\n",
    "    with driver.session() as session:\n",
    "        session.execute_write(create_graph)\n",
    "    print(\"Graph database populated successfully!\")"
   ]
  },
  {
   "cell_type": "markdown",
   "id": "f253fb14-adc5-4eda-b0a3-445399019500",
   "metadata": {},
   "source": [
    "\"\"\"\n",
    "Now go to Neo4j database and use the browser to check for \"User\" and \"FRIENDS_WITH\" to see the nodes and relationships.\n",
    "\"\"\""
   ]
  },
  {
   "cell_type": "code",
   "execution_count": 5,
   "id": "53e3bf5f-4c08-421d-867e-dcbab13fdbb4",
   "metadata": {},
   "outputs": [],
   "source": [
    "# I am showing the screenshotS of database created - run this cellS to see the pictureS\n",
    "from PIL import Image\n",
    "\n",
    "img = Image.open(\"Users.jpg\")\n",
    "img.show()        # displays the image through the built-in Photo app in your respective OS."
   ]
  },
  {
   "cell_type": "code",
   "execution_count": 6,
   "id": "80767fc4-f910-4c7f-bd4d-9b3f912a1c35",
   "metadata": {},
   "outputs": [],
   "source": [
    "img = Image.open(\"FRIENDS_WITH.jpg\")\n",
    "img.show() "
   ]
  },
  {
   "cell_type": "code",
   "execution_count": null,
   "id": "b39599a1-7746-4323-a7de-e16fcb935c45",
   "metadata": {},
   "outputs": [],
   "source": []
  }
 ],
 "metadata": {
  "kernelspec": {
   "display_name": "Python 3 (ipykernel)",
   "language": "python",
   "name": "python3"
  },
  "language_info": {
   "codemirror_mode": {
    "name": "ipython",
    "version": 3
   },
   "file_extension": ".py",
   "mimetype": "text/x-python",
   "name": "python",
   "nbconvert_exporter": "python",
   "pygments_lexer": "ipython3",
   "version": "3.10.0"
  }
 },
 "nbformat": 4,
 "nbformat_minor": 5
}
