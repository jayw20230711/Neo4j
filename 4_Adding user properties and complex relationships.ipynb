{
 "cells": [
  {
   "cell_type": "code",
   "execution_count": 1,
   "id": "4c9fef95-ab78-45c4-86c8-df8c0117fdbb",
   "metadata": {},
   "outputs": [],
   "source": [
    "from neo4j import GraphDatabase"
   ]
  },
  {
   "cell_type": "code",
   "execution_count": 2,
   "id": "a5383bb9-3179-4689-aca8-866f12b2b3fe",
   "metadata": {},
   "outputs": [],
   "source": [
    "# Neo4j connection settings (replace with your credentials)\n",
    "URI = \"bolt://localhost:7687\"\n",
    "USER = \"neo4j\"\n",
    "PASSWORD = \"neo4j\" # Default is \"neo4j\" (change after first login)\n",
    "\n",
    "# Sample data\n",
    "users = [\n",
    "{\"id\": 0, \"name\": \"Hero\", \"age\": 20, \"interests\": [\"music\", \"movies\"]},\n",
    "{\"id\": 1, \"name\": \"Dunn\", \"age\": 25, \"interests\": [\"sports\"]},\n",
    "{\"id\": 2, \"name\": \"Sue\"},\n",
    "{\"id\": 3, \"name\": \"Chi\"},\n",
    "{\"id\": 4, \"name\": \"Thor\"},\n",
    "{\"id\": 5, \"name\": \"Clive\"},\n",
    "{\"id\": 6, \"name\": \"Hicks\"},\n",
    "{\"id\": 7, \"name\": \"Devin\"},\n",
    "{\"id\": 8, \"name\": \"Kate\"},\n",
    "{\"id\": 9, \"name\": \"Klein\"}\n",
    "]\n",
    "\n",
    "friendship_pairs = [(0, 1), (0, 2), (1, 2), (1, 3), (2, 3), (3, 4),\n",
    "(4, 5), (5, 6), (5, 7), (6, 8), (7, 8), (8, 9)]"
   ]
  },
  {
   "cell_type": "code",
   "execution_count": 3,
   "id": "519f7916-e607-4e8e-ae62-948dd75e6406",
   "metadata": {},
   "outputs": [],
   "source": [
    "# New relationships: \"LIKES\" and \"FOLLOWS\"\n",
    "relationships = [\n",
    "    {\"type\": \"FRIENDS_WITH\", \"pairs\": friendship_pairs},\n",
    "    {\"type\": \"LIKES\", \"pairs\": [(0, \"music\"), (1, \"sports\"), (2, \"movies\")]},\n",
    "    {\"type\": \"FOLLOWS\", \"pairs\": [(0, 3), (1, 4), (2, 5)]}\n",
    "]"
   ]
  },
  {
   "cell_type": "code",
   "execution_count": 4,
   "id": "50badea9-0dfe-4cdd-8e5c-227fafef3daa",
   "metadata": {},
   "outputs": [
    {
     "name": "stdout",
     "output_type": "stream",
     "text": [
      "Advanced graph populated!\n"
     ]
    }
   ],
   "source": [
    "def create_advanced_graph(tx):\n",
    "    # Clear existing data\n",
    "    tx.run(\"MATCH (n) DETACH DELETE n\")\n",
    "\n",
    "    # Create User nodes with properties\n",
    "    for user in users:\n",
    "        # Added this code to handle optional/missing fields\n",
    "        props = {\n",
    "            \"id\": user[\"id\"],\n",
    "            \"name\": user[\"name\"],\n",
    "            \"age\": user.get(\"age\"),  # Returns None if 'age' doesn't exist\n",
    "            \"interests\": user.get(\"interests\", [])  # Deafult to empty list\n",
    "        }    \n",
    "        tx.run(\n",
    "            \"\"\"\n",
    "            CREATE (u:User {id: $id, name: $name, age: $age, interests: $interests})\n",
    "            \"\"\",\n",
    "            ## id=user[\"id\"], name=user[\"name\"], age=user[\"age\"], interests=user[\"interests\"]\n",
    "            **props \n",
    "        )\n",
    "    \n",
    "    # Create relationships\n",
    "    for rel in relationships:\n",
    "        for pair in rel[\"pairs\"]:\n",
    "            if rel[\"type\"] == \"LIKES\":\n",
    "                # Link users to interests (treated as nodes)\n",
    "                tx.run(\n",
    "                    \"\"\"\n",
    "                    MERGE (u:User {id: $id})\n",
    "                    MERGE (i:Interest {name: $interest})\n",
    "                    CREATE (u)-[:LIKES]->(i)\n",
    "                    \"\"\",\n",
    "                    id=pair[0], interest=pair[1]\n",
    "                )\n",
    "            else:\n",
    "                # User-to-user relationships (FRIENDS_WITH, FOLLOWS)\n",
    "                tx.run(\n",
    "                    \"\"\"\n",
    "                    MATCH (u1:User {id: $id1}), (u2:User {id: $id2})\n",
    "                    CREATE (u1)-[:%s]->(u2)\n",
    "                    \"\"\" % rel[\"type\"],\n",
    "                    id1=pair[0], id2=pair[1]\n",
    "                )\n",
    "\n",
    "# Execute\n",
    "with GraphDatabase.driver(URI, auth=(USER, PASSWORD)) as driver:\n",
    "    with driver.session() as session:\n",
    "        session.execute_write(create_advanced_graph)\n",
    "    print(\"Advanced graph populated!\")"
   ]
  },
  {
   "cell_type": "raw",
   "id": "821735c1-b3db-4fdd-ae58-17d713621744",
   "metadata": {},
   "source": [
    "\"\"\"\n",
    "## Add validation before processing:\n",
    "## Error Prevention: Using dict.get() with defaults prevents KeyError.\n",
    "\n",
    "required_keys = [\"id\", \"name\", \"age\", \"interests\"]\n",
    "for user in users:\n",
    "    if not all(key in user for key in required_keys):\n",
    "        print(f\"Invalid user data: {user}\")\n",
    "        continue  # Skip this user or raise an error\n",
    "    # ... rest of your code ...\n",
    "\n",
    "\n",
    "\"\"\""
   ]
  },
  {
   "cell_type": "code",
   "execution_count": 5,
   "id": "b873e617-345f-4c25-95be-847483d539ab",
   "metadata": {},
   "outputs": [],
   "source": [
    "# I am showing the screenshotS of database created - run this cellS to see the pictureS\n",
    "from PIL import Image\n",
    "\n",
    "img = Image.open(\"4_Users and interests.jpg\")\n",
    "img.show()        # displays the image through the built-in Photo app in your respective OS."
   ]
  },
  {
   "cell_type": "code",
   "execution_count": 6,
   "id": "2f898962-868e-4388-8ec8-d600435de5ef",
   "metadata": {},
   "outputs": [],
   "source": [
    "img = Image.open(\"4_FOLLOWS.jpg\")\n",
    "img.show() "
   ]
  },
  {
   "cell_type": "code",
   "execution_count": 7,
   "id": "5c37eee8-549a-4a5a-b43e-5eedfeb7f7e8",
   "metadata": {},
   "outputs": [],
   "source": [
    "img = Image.open(\"4_LIKES.jpg\")\n",
    "img.show() "
   ]
  },
  {
   "cell_type": "raw",
   "id": "e782c9bc-0fce-468f-b4c2-accf1d8692a8",
   "metadata": {},
   "source": [
    "\"\"\"\n",
    "Key Changes:\n",
    "Users now have age and interests (stored as arrays).\n",
    "\n",
    "Interest nodes are linked via LIKES.\n",
    "\n",
    "New FOLLOWS relationships (asymmetric).\n",
    "\n",
    "\"\"\""
   ]
  }
 ],
 "metadata": {
  "kernelspec": {
   "display_name": "Python 3 (ipykernel)",
   "language": "python",
   "name": "python3"
  },
  "language_info": {
   "codemirror_mode": {
    "name": "ipython",
    "version": 3
   },
   "file_extension": ".py",
   "mimetype": "text/x-python",
   "name": "python",
   "nbconvert_exporter": "python",
   "pygments_lexer": "ipython3",
   "version": "3.10.0"
  }
 },
 "nbformat": 4,
 "nbformat_minor": 5
}
