{
 "cells": [
  {
   "cell_type": "code",
   "execution_count": 1,
   "id": "0768edd6-37c1-455f-a490-66397ad7e9fa",
   "metadata": {},
   "outputs": [],
   "source": [
    "from neo4j import GraphDatabase"
   ]
  },
  {
   "cell_type": "code",
   "execution_count": 2,
   "id": "22b31358-2dd7-4224-afa3-c357c9f8f957",
   "metadata": {},
   "outputs": [],
   "source": [
    "# Neo4j connection settings (replace with your credentials)\n",
    "URI = \"bolt://localhost:7687\"\n",
    "USER = \"neo4j\"\n",
    "PASSWORD = \"neo4j\" # Default is \"neo4j\" (change after first login)\n",
    "# Sample data\n",
    "users2 = [\n",
    "{\"id\": 0, \"name\": \"Hero\"},\n",
    "{\"id\": 1, \"name\": \"Dunn\"},\n",
    "{\"id\": 2, \"name\": \"Sue\"},\n",
    "{\"id\": 3, \"name\": \"Chi\"},\n",
    "{\"id\": 4, \"name\": \"Thor\"},\n",
    "{\"id\": 5, \"name\": \"Clive\"},\n",
    "{\"id\": 6, \"name\": \"Hicks\"},\n",
    "{\"id\": 7, \"name\": \"Devin\"},\n",
    "{\"id\": 8, \"name\": \"Kate\"},\n",
    "{\"id\": 9, \"name\": \"Klein\"}\n",
    "]\n",
    "\n",
    "friendship_pairs2 = [(0, 1), (0, 2), (1, 2), (1, 3), (2, 3), (3, 4),\n",
    "(4, 5), (5, 6), (5, 7), (6, 8), (7, 8), (8, 9)]"
   ]
  },
  {
   "cell_type": "code",
   "execution_count": 3,
   "id": "00f3e99a-facd-4377-98f9-3eafc7227457",
   "metadata": {},
   "outputs": [],
   "source": [
    "# Connect to Neo4j and populate data\n",
    "def create_graph(tx):\n",
    "    #clear existing data (optional)\n",
    "    #tx.run(\"MATCH (n) DETACH DELETE n\")\n",
    "\n",
    "    #create all user nodes\n",
    "    for user2 in users2:\n",
    "        tx.run (\n",
    "            \"CREATE (u:User2 {id: $id, name: $name})\",  # Single-line query (double quotes)\n",
    "            id=user2[\"id\"], name=user2[\"name\"]\n",
    "        )\n",
    "\n",
    "    # create FRIENDS_WITH relationships  - u1 - u2  -  bidirectional friendship\n",
    "    for pair2 in friendship_pairs2:\n",
    "        tx.run(\n",
    "            \"\"\"\n",
    "            MATCH (u1:User2 {id: $id1}), (u2:User2 {id: $id2})\n",
    "            CREATE (u1)-[:FRIENDS_WITH2]->(u2),\n",
    "                   (u2)-[:FRIENDS_WITH2]->(u1)        \n",
    "            \"\"\",             # Multi-line query (triple double quotes)\n",
    "            id1=pair2[0], id2=pair2[1]\n",
    "        )\n"
   ]
  },
  {
   "cell_type": "code",
   "execution_count": 4,
   "id": "a2113144-e074-4053-ac28-d09046688ae6",
   "metadata": {},
   "outputs": [
    {
     "name": "stdout",
     "output_type": "stream",
     "text": [
      "Graph database populated successfully!\n"
     ]
    }
   ],
   "source": [
    "# Execute the script\n",
    "with GraphDatabase.driver(URI, auth=(USER, PASSWORD)) as driver:\n",
    "    with driver.session() as session:\n",
    "        session.execute_write(create_graph)\n",
    "    print(\"Graph database populated successfully!\")"
   ]
  },
  {
   "cell_type": "markdown",
   "id": "f253fb14-adc5-4eda-b0a3-445399019500",
   "metadata": {},
   "source": [
    "\"\"\"\n",
    "Now go to Neo4j database and use the browser to check for \"User\" and \"FRIENDS_WITH\" to see the nodes and relationships.\n",
    "\"\"\""
   ]
  },
  {
   "cell_type": "code",
   "execution_count": 5,
   "id": "5a9286b9-6700-419a-ba5d-f3470b78c4cc",
   "metadata": {},
   "outputs": [],
   "source": [
    "# I am showing the screenshotS of database created - run this cellS to see the pictureS\n",
    "from PIL import Image\n",
    "\n",
    "img = Image.open(\"Users2.jpg\")\n",
    "img.show()        # displays the image through the built-in Photo app in your respective OS."
   ]
  },
  {
   "cell_type": "code",
   "execution_count": 6,
   "id": "cab25b7d-38de-422a-ab51-264022b348a4",
   "metadata": {},
   "outputs": [],
   "source": [
    "img = Image.open(\"FRIENDS_WITH2.jpg\")\n",
    "img.show() "
   ]
  }
 ],
 "metadata": {
  "kernelspec": {
   "display_name": "Python 3 (ipykernel)",
   "language": "python",
   "name": "python3"
  },
  "language_info": {
   "codemirror_mode": {
    "name": "ipython",
    "version": 3
   },
   "file_extension": ".py",
   "mimetype": "text/x-python",
   "name": "python",
   "nbconvert_exporter": "python",
   "pygments_lexer": "ipython3",
   "version": "3.10.0"
  }
 },
 "nbformat": 4,
 "nbformat_minor": 5
}
